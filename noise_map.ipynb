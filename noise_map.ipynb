{
 "cells": [
  {
   "cell_type": "code",
   "execution_count": 1,
   "metadata": {},
   "outputs": [],
   "source": [
    "from terrain_generation import generate_map\n",
    "import json\n",
    "from ipywidgets import interact\n",
    "import ipywidgets as widgets"
   ]
  },
  {
   "cell_type": "code",
   "execution_count": 4,
   "metadata": {},
   "outputs": [
    {
     "data": {
      "application/vnd.jupyter.widget-view+json": {
       "model_id": "df25b106d942444b91525a20a58b6487",
       "version_major": 2,
       "version_minor": 0
      },
      "text/plain": [
       "interactive(children=(IntSlider(value=1, description='senders', max=20, min=1, step=0), IntSlider(value=10, de…"
      ]
     },
     "metadata": {},
     "output_type": "display_data"
    }
   ],
   "source": [
    "default_map_config = json.load(open(\"default_map_config.json\"))\n",
    "\n",
    "_ = interact(\n",
    "    generate_map,\n",
    "    plot=True,\n",
    "    return_map_data=False,\n",
    "    senders=widgets.IntSlider(min=1, max=20, step=0.1, value=1),\n",
    "    receivers=widgets.IntSlider(min=1, max=20, step=0.1, value=10),\n",
    "    map_resolution=widgets.IntSlider(min=100, max=1000, step=1, value=default_map_config[\"map_resolution\"]),\n",
    "    foliage_freq=widgets.FloatSlider(min=1, max=10, step=0.1, value=default_map_config[\"foliage_freq\"]),\n",
    "    foliage_octaves=widgets.IntSlider(min=1, max=10, step=1, value=default_map_config[\"foliage_octaves\"]),\n",
    "    foliage_octaves_factor=widgets.FloatSlider(min=1, max=10, step=0.1, value=default_map_config[\"foliage_octaves_factor\"]),\n",
    "    foliage_levels=widgets.IntSlider(min=0, max=10, step=0.1, value=default_map_config[\"foliage_levels\"]),\n",
    "    foliage_redistribution=widgets.FloatSlider(min=0, max=10, step=0.1, value=default_map_config[\"foliage_redistribution\"]),\n",
    "    pop_octaves=widgets.IntSlider(min=1, max=10, step=1, value=default_map_config[\"pop_octaves\"]),\n",
    "    pop_freq=widgets.FloatSlider(min=1, max=10, step=0.1, value=default_map_config[\"pop_freq\"]),\n",
    "    pop_octaves_factor=widgets.FloatSlider(min=1, max=3, step=0.01, value=default_map_config[\"pop_octaves_factor\"]),\n",
    "    pop_levels=widgets.IntSlider(min=2, max=20, step=0.1, value=default_map_config[\"pop_levels\"]),\n",
    "    pop_redistribution=widgets.FloatSlider(min=0, max=10, step=0.1, value=default_map_config[\"pop_redistribution\"]),\n",
    ")"
   ]
  },
  {
   "cell_type": "code",
   "execution_count": null,
   "metadata": {},
   "outputs": [],
   "source": []
  }
 ],
 "metadata": {
  "kernelspec": {
   "display_name": "AIProtectTorch",
   "language": "python",
   "name": "python3"
  },
  "language_info": {
   "codemirror_mode": {
    "name": "ipython",
    "version": 3
   },
   "file_extension": ".py",
   "mimetype": "text/x-python",
   "name": "python",
   "nbconvert_exporter": "python",
   "pygments_lexer": "ipython3",
   "version": "3.9.5"
  },
  "orig_nbformat": 4
 },
 "nbformat": 4,
 "nbformat_minor": 2
}
