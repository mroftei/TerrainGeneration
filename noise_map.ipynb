{
 "cells": [
  {
   "cell_type": "code",
   "execution_count": 1,
   "metadata": {},
   "outputs": [],
   "source": [
    "import numpy as np\n",
    "import matplotlib.pyplot as plt\n",
    "import opensimplex\n",
    "import scipy.ndimage\n",
    "from ipywidgets import interact, interactive, fixed, interact_manual\n",
    "import ipywidgets as widgets\n",
    "opensimplex.seed(1234)\n"
   ]
  },
  {
   "cell_type": "code",
   "execution_count": 193,
   "metadata": {},
   "outputs": [],
   "source": [
    "freq = 1\n",
    "x, y = np.linspace(freq*-1, freq*1, 100), np.linspace(freq*-1, freq*1, 100)\n",
    "z = opensimplex.noise2array(x, y)"
   ]
  },
  {
   "cell_type": "code",
   "execution_count": 198,
   "metadata": {},
   "outputs": [
    {
     "data": {
      "text/plain": [
       "array([[ 0.15528059,  0.16030812,  0.16561868, ...,  0.01685415,\n",
       "         0.00526422, -0.0063771 ],\n",
       "       [ 0.16101908,  0.16729515,  0.17379217, ...,  0.0458177 ,\n",
       "         0.03432823,  0.02272583],\n",
       "       [ 0.16685554,  0.17432985,  0.18195704, ...,  0.07457528,\n",
       "         0.06322407,  0.05169512],\n",
       "       ...,\n",
       "       [ 0.01686392, -0.01214771, -0.04102528, ...,  0.03490883,\n",
       "         0.01698108, -0.00075881],\n",
       "       [ 0.00526487, -0.0238192 , -0.05277212, ...,  0.06488204,\n",
       "         0.04755133,  0.03033239],\n",
       "       [-0.0063771 , -0.03548001, -0.06444909, ...,  0.09545629,\n",
       "         0.07879664,  0.062173  ]])"
      ]
     },
     "execution_count": 198,
     "metadata": {},
     "output_type": "execute_result"
    }
   ],
   "source": []
  },
  {
   "cell_type": "code",
   "execution_count": 211,
   "metadata": {},
   "outputs": [],
   "source": [
    "_b = np.linspace(-1, 1, 20)\n",
    "_x, _y = np.meshgrid(_b, _b)\n",
    "d = np.minimum(1, (_x**2+_x**2)/np.sqrt(2))\n"
   ]
  },
  {
   "cell_type": "code",
   "execution_count": 219,
   "metadata": {},
   "outputs": [
    {
     "data": {
      "text/plain": [
       "array([0.55834679, 0.75004426, 1.00755732, 1.35348247, 1.81817426])"
      ]
     },
     "execution_count": 219,
     "metadata": {},
     "output_type": "execute_result"
    }
   ],
   "source": [
    "np.logspace(z.min(), z.max()+np.finfo(np.float32).eps, terrain_count+1, base=np.e)"
   ]
  },
  {
   "cell_type": "code",
   "execution_count": 41,
   "metadata": {},
   "outputs": [],
   "source": [
    "def population_map(freq=1, map_resolution=100, octaves=1, octave_factor=2, pop_threshold=0.5):\n",
    "    z = np.zeros((map_resolution, map_resolution))\n",
    "    of = 1\n",
    "    for _ in range(octaves):\n",
    "        x, y = np.linspace(freq*of*-1, freq*of*1, map_resolution), np.linspace(freq*of*-1, freq*of*1, map_resolution)\n",
    "        z += (1/of)*opensimplex.noise2array(x, y)\n",
    "        of *= octave_factor\n",
    "        \n",
    "    # Enable population islands\n",
    "    znorm = (2*(z-np.min(z))/(np.max(z)-np.min(z)))-1\n",
    "    _b = np.linspace(-1, 1, map_resolution)\n",
    "    _x, _y = np.meshgrid(_b, _b)\n",
    "    d = np.minimum(1, (_x**2+_y**2)/np.sqrt(2))\n",
    "    z = (znorm + (1-d)) / 2\n",
    "    z = (z-np.min(z))/(np.max(z)-np.min(z))\n",
    "    z = np.digitize(z, [0, pop_threshold, 1])\n",
    "    \n",
    "    return z\n",
    "\n",
    "def foliage_map(foliage_freq=1, map_resolution=100, foliage_octaves=1, foliage_octave_factor=2, foliage_levels=3):\n",
    "    z = np.zeros((map_resolution, map_resolution))\n",
    "    of = 1\n",
    "    for _ in range(foliage_octaves):\n",
    "        x, y = np.linspace(foliage_freq*of*-1, foliage_freq*of*1, map_resolution), np.linspace(foliage_freq*of*-1, foliage_freq*of*1, map_resolution)\n",
    "        z += (1/of)*opensimplex.noise2array(x, y)\n",
    "        of *= foliage_octave_factor\n",
    "        \n",
    "    z = (z-np.min(z))/(np.max(z)-np.min(z))\n",
    "    z = np.digitize(z, np.linspace(z.min(), z.max(), foliage_levels+1))\n",
    "    \n",
    "    return z"
   ]
  },
  {
   "cell_type": "code",
   "execution_count": 42,
   "metadata": {},
   "outputs": [],
   "source": [
    "def resolve_terrain(pop_map, fol_map):\n",
    "    return fol_map"
   ]
  },
  {
   "cell_type": "code",
   "execution_count": 49,
   "metadata": {},
   "outputs": [
    {
     "data": {
      "application/vnd.jupyter.widget-view+json": {
       "model_id": "7be41d7e2b494e07ad1f967870e3572c",
       "version_major": 2,
       "version_minor": 0
      },
      "text/plain": [
       "interactive(children=(FloatSlider(value=0.1, description='x0', max=1.0), FloatSlider(value=0.1, description='y…"
      ]
     },
     "metadata": {},
     "output_type": "display_data"
    },
    {
     "data": {
      "text/plain": [
       "<function __main__.generate(x0, y0, x1, y1, pop_freq, foliage_freq, pop_octaves, pop_octaves_factor, pop_threshold, foliage_levels, map_resolution=100)>"
      ]
     },
     "execution_count": 49,
     "metadata": {},
     "output_type": "execute_result"
    }
   ],
   "source": [
    "def generate(x0, y0, x1, y1, pop_freq, foliage_freq, pop_octaves, pop_octaves_factor, pop_threshold, foliage_levels, map_resolution=100):\n",
    "    #-- Generate some data...\n",
    "    pop_map = population_map(pop_freq, map_resolution, pop_octaves, pop_octaves_factor, pop_threshold)\n",
    "    fol_map = foliage_map(foliage_freq, map_resolution, foliage_levels=foliage_levels)\n",
    "\n",
    "    z = resolve_terrain(pop_map, fol_map)\n",
    "\n",
    "    #-- Extract the line...\n",
    "    # Make a line with \"num\" points...\n",
    "    x1, y1 = int(x1*map_resolution), int(y1*map_resolution) # These are in _pixel_ coordinates!!\n",
    "    x0, y0 = int(x0*map_resolution), int(y0*map_resolution)\n",
    "    num = 10000\n",
    "    x, y = np.linspace(x0, x1, num), np.linspace(y0, y1, num)\n",
    "    # Extract the values along the line\n",
    "    \n",
    "    zi = z[y.astype(int), x.astype(int)]\n",
    "    # zi = scipy.ndimage.map_coordinates(z, np.vstack((x,y)))\n",
    "\n",
    "    # zi = np.digitize(zi, np.linspace(z.min(), z.max(), terrain_count+1), right=True)\n",
    "    terrain_transitions = (np.abs(zi[1:] - zi[:-1]) > 0).astype(int)\n",
    "    terrain_transitions = np.concatenate([np.array([0]), terrain_transitions])\n",
    "    xtrans_coords = x[terrain_transitions == 1]\n",
    "    ytrans_coords = y[terrain_transitions == 1]\n",
    "\n",
    "\n",
    "    #-- Plot...\n",
    "    fig, axes = plt.subplots(nrows=1, figsize=(10, 10))\n",
    "    axes.imshow(z, origin='lower')\n",
    "    axes.scatter(xtrans_coords, ytrans_coords, marker='x', color='r', s=500)\n",
    "    axes.plot([x0, x1], [y0, y1], 'ro-')\n",
    "    axes.axis('image')\n",
    "\n",
    "    # axes[1].plot(zi)\n",
    "    # axes[2].plot(terrain_transitions)\n",
    "\n",
    "    plt.show()\n",
    "interact(\n",
    "    generate,\n",
    "    map_resolution = widgets.IntSlider(min=100, max=1000, step=1, value=1000),\n",
    "    foliage_levels = widgets.IntSlider(min=1, max=10, step=1, value=4),\n",
    "    pop_octaves = widgets.IntSlider(min=1, max=10, step=1, value=4),\n",
    "    pop_freq=widgets.FloatSlider(min=1, max=100, step=0.1, value=10),\n",
    "    foliage_freq=widgets.FloatSlider(min=1, max=100, step=0.1, value=1),\n",
    "    pop_octaves_factor=widgets.FloatSlider(min=1, max=10, step=0.1, value=1),\n",
    "    pop_threshold=widgets.FloatSlider(min=0, max=1, step=0.1, value=0.5),\n",
    "    \n",
    "    x0=widgets.FloatSlider(min=0, max=1, step=0.1, value=0.1),\n",
    "    y0=widgets.FloatSlider(min=0, max=1, step=0.1, value=0.1),\n",
    "    x1=widgets.FloatSlider(min=0, max=1, step=0.1, value=0.9),\n",
    "    y1=widgets.FloatSlider(min=0, max=1, step=0.1, value=0.9),\n",
    "    \n",
    ")"
   ]
  },
  {
   "cell_type": "code",
   "execution_count": null,
   "metadata": {},
   "outputs": [],
   "source": []
  },
  {
   "cell_type": "code",
   "execution_count": null,
   "metadata": {},
   "outputs": [],
   "source": []
  }
 ],
 "metadata": {
  "kernelspec": {
   "display_name": "AIProtectTorch",
   "language": "python",
   "name": "python3"
  },
  "language_info": {
   "codemirror_mode": {
    "name": "ipython",
    "version": 3
   },
   "file_extension": ".py",
   "mimetype": "text/x-python",
   "name": "python",
   "nbconvert_exporter": "python",
   "pygments_lexer": "ipython3",
   "version": "3.9.5"
  },
  "orig_nbformat": 4
 },
 "nbformat": 4,
 "nbformat_minor": 2
}
